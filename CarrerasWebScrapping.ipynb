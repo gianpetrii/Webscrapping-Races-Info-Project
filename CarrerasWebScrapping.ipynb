{
 "cells": [
  {
   "cell_type": "code",
   "execution_count": 3,
   "id": "2e42dbdc",
   "metadata": {},
   "outputs": [],
   "source": [
    "# librerias necesarias\n",
    "from bs4 import BeautifulSoup\n",
    "import requests\n",
    "import time\n",
    "import datetime\n",
    "import pandas as pd\n",
    "import csv\n",
    "\n",
    "import smtplib"
   ]
  },
  {
   "cell_type": "code",
   "execution_count": 4,
   "id": "ff74c028",
   "metadata": {},
   "outputs": [],
   "source": [
    "    URL = 'https://www.corredorpromedio.com/calendario/'\n",
    "\n",
    "    headers = {\"User-Agent\": \"Mozilla/5.0 (Windows NT 10.0; Win64; x64) AppleWebKit/537.36 (KHTML, like Gecko) Chrome/119.0.0.0 Safari/537.36\", \"X-Amzn-Trace-Id\": \"Root=1-656f5512-15b37c09176233632b1e984c\"}\n",
    "\n",
    "\n",
    "    page = requests.get(URL, headers=headers)\n",
    "    \n",
    "    soup1 = BeautifulSoup(page.content, \"html.parser\")\n",
    "\n",
    "    soup2 = BeautifulSoup(soup1.prettify(), \"html.parser\") #lo formatea un poco"
   ]
  },
  {
   "cell_type": "code",
   "execution_count": 15,
   "id": "dd35d712",
   "metadata": {},
   "outputs": [
    {
     "name": "stdout",
     "output_type": "stream",
     "text": [
      "\n",
      "                       EL CRUCE\n",
      "                      \n"
     ]
    }
   ],
   "source": [
    "    title = soup2.find('a', class_=\"mec-color-hover\").get_text()\n",
    "    print(title)"
   ]
  },
  {
   "cell_type": "code",
   "execution_count": 16,
   "id": "99786c9b",
   "metadata": {},
   "outputs": [
    {
     "name": "stdout",
     "output_type": "stream",
     "text": [
      "EL CRUCE\n"
     ]
    }
   ],
   "source": [
    "title = title.strip()\n",
    "print(title)"
   ]
  },
  {
   "cell_type": "code",
   "execution_count": 17,
   "id": "2b3180ad",
   "metadata": {},
   "outputs": [
    {
     "name": "stdout",
     "output_type": "stream",
     "text": [
      "2023-12-05\n"
     ]
    }
   ],
   "source": [
    "# fecha de cuando extrai los datos\n",
    "import datetime\n",
    "\n",
    "today = datetime.date.today()\n",
    "\n",
    "print(today)"
   ]
  },
  {
   "cell_type": "code",
   "execution_count": 28,
   "id": "019a7586",
   "metadata": {},
   "outputs": [
    {
     "name": "stdout",
     "output_type": "stream",
     "text": [
      "01 - 06 Dic\n",
      "\n",
      "                       Todo el día\n",
      "                      \n",
      "\n",
      "\n",
      "                        San Carlos de Bariloche, Río Negro, Argentina\n",
      "                       \n",
      "\n"
     ]
    }
   ],
   "source": [
    "#juntar resto de la data\n",
    "\n",
    "fecha = soup2.find('span', class_=\"mec-start-date-label\").get_text()\n",
    "duracion = soup2.find('span', class_=\"mec-start-time\").get_text()\n",
    "ubicacion = soup2.find('address', class_=\"mec-event-address\").get_text()\n",
    "print(fecha)\n",
    "print(duracion)\n",
    "print(ubicacion)"
   ]
  },
  {
   "cell_type": "code",
   "execution_count": 30,
   "id": "ca27f2ae",
   "metadata": {},
   "outputs": [
    {
     "name": "stdout",
     "output_type": "stream",
     "text": [
      "01 - 06 Dic\n",
      "Todo el día\n",
      "San Carlos de Bariloche, Río Negro, Argentina\n"
     ]
    }
   ],
   "source": [
    "fecha = fecha.strip()\n",
    "duracion = duracion.strip()\n",
    "ubicacion = ubicacion.strip()\n",
    "print(fecha)\n",
    "print(duracion)\n",
    "print(ubicacion)"
   ]
  },
  {
   "cell_type": "code",
   "execution_count": 31,
   "id": "c51d79e4",
   "metadata": {},
   "outputs": [],
   "source": [
    "#Crear csv y meterle la data\n",
    "\n",
    "header = ['Titulo', 'Ubicacion', 'Fecha', 'Fecha de WebScrapping']\n",
    "data = [title, ubicacion, fecha, today]\n",
    "\n",
    "with open('CarrerasDataSet.csv', 'w', newline='' , encoding='UTF8') as f: #la separacion entre valores\n",
    "    writer = csv.writer(f)\n",
    "    writer.writerow(header)\n",
    "    writer.writerow(data)"
   ]
  },
  {
   "cell_type": "code",
   "execution_count": 32,
   "id": "f2aab0a1",
   "metadata": {},
   "outputs": [
    {
     "name": "stdout",
     "output_type": "stream",
     "text": [
      "     Titulo                                      Ubicacion        Fecha  \\\n",
      "0  EL CRUCE  San Carlos de Bariloche, Río Negro, Argentina  01 - 06 Dic   \n",
      "\n",
      "  Fecha de WebScrapping  \n",
      "0            2023-12-05  \n"
     ]
    }
   ],
   "source": [
    "df = pd.read_csv(r'CarrerasDataSet.csv')\n",
    "\n",
    "print(df)"
   ]
  },
  {
   "cell_type": "code",
   "execution_count": 34,
   "id": "be6ebef4",
   "metadata": {},
   "outputs": [],
   "source": [
    "# aca obtengo mismos datos pero de toda la pagina\n",
    "titles = soup2.find_all('a', class_=\"mec-color-hover\")\n",
    "fechas = soup2.find_all('span', class_=\"mec-start-date-label\")\n",
    "duraciones = soup2.find_all('span', class_=\"mec-start-time\")\n",
    "ubicaciones = soup2.find_all('address', class_=\"mec-event-address\")"
   ]
  },
  {
   "cell_type": "code",
   "execution_count": 41,
   "id": "5e4e6635",
   "metadata": {},
   "outputs": [],
   "source": [
    "#creo funcion para solo quedarme con los datos limpios y luego la llamo\n",
    "def limpiarDatos(listado):\n",
    "    listadoFinal = []\n",
    "    for elem in listado:\n",
    "        listadoFinal.append(elem.get_text().strip())\n",
    "    return listadoFinal"
   ]
  },
  {
   "cell_type": "code",
   "execution_count": 45,
   "id": "d81240be",
   "metadata": {},
   "outputs": [
    {
     "name": "stdout",
     "output_type": "stream",
     "text": [
      "['EL CRUCE', 'OUTDOORS WEEK CERRO CASTILLO', 'DUATLÓN JUVENIL DALCAHUE', 'STOP BULLYING CROSS COUNTRY THE EBP COLOR RUN', 'CORRIDA DE ATLETISMO MANQUEMÁVIDA', 'BLACK ROCK – EL DURAZNO | SUSPENDIDA', 'CORRE CON TU MASCOTA', 'DESTINO ANGOSTURA TRAIL', 'KUMEN TRAIL ADVENTURE SERIES – PUENTE DEL INCA', 'NAVARINO TRAIL', 'FESTRIVAL TRIFRUTILLAR', 'VULCANO ULTRA TRAIL']\n",
      "['01 - 06 Dic', '02 - 10 Dic', '06 Dic', '07 Dic', '07 Dic', '08 - 10 Dic', '08 Dic', '08 Dic', '09 Dic', '09 Dic', '09 - 10 Dic', '09 Dic']\n",
      "['Todo el día', 'Todo el día', '10:30', '10:00', '19:15', 'Todo el día', '09:00', '09:30', '07:30', 'Todo el día', 'Todo el día', 'Todo el día']\n",
      "['San Carlos de Bariloche, Río Negro, Argentina', 'Coyhaique, Región de Aysén, Chile', 'Dalcahue, Región de Los Lagos, Chile', 'Toltén, Región de La Araucanía, Chile', \"Santa Cruz, Región de O'Higgins, Chile\", 'Villa Yacanto de Calamuchita, Córdoba, Argentina', 'Chiguayante, Región del Biobío, Chile', 'Santa Bárbara, Región del Biobío, Chile', 'Mendoza, Argentina', 'Puerto Williams, Región de Magallanes, Chile', 'Frutillar, Región de Los Lagos, Chile', 'Puerto Varas, Región de Los Lagos, Chile']\n"
     ]
    }
   ],
   "source": [
    "# limpio todos mis datos\n",
    "titulos = limpiarDatos(titles)\n",
    "fechas = limpiarDatos(fechas)\n",
    "duraciones = limpiarDatos(duraciones)\n",
    "ubicaciones = limpiarDatos(ubicaciones)\n",
    "\n",
    "print(titulos)\n",
    "print(fechas)\n",
    "print(duraciones)\n",
    "print(ubicaciones)"
   ]
  },
  {
   "cell_type": "code",
   "execution_count": 51,
   "id": "30585778",
   "metadata": {},
   "outputs": [],
   "source": [
    "#vuelvo a crear cvs pero ahora para listas\n",
    "\n",
    "header = ['Titulo', 'Fecha','Duracion', 'Ubicacion']\n",
    "\n",
    "with open('CarrerasDataSet.csv', 'w', newline='' , encoding='UTF8') as f:\n",
    "    writer = csv.writer(f)\n",
    "    writer.writerow(header)\n",
    "\n",
    "    for info in zip(titulos, fechas, duraciones, ubicaciones):\n",
    "        data = [info[0], info[1], info[2], info[3]]\n",
    "        writer.writerow(data)"
   ]
  },
  {
   "cell_type": "code",
   "execution_count": null,
   "id": "c3e03e88",
   "metadata": {},
   "outputs": [],
   "source": [
    "# abro y leo el csv que cree\n",
    "df = pd.read_csv(r'CarrerasDataSet.csv')\n",
    "\n",
    "print(df)"
   ]
  },
  {
   "cell_type": "code",
   "execution_count": null,
   "id": "a9f9949c",
   "metadata": {},
   "outputs": [],
   "source": [
    "# puedo meter todo en una funcion y correr solo esto para que se ejecute cada cierta cantidad de tiempo de manera automatica\n",
    "\n",
    "def realizarBusqueda():\n",
    "\n",
    "    titles = soup2.find_all('a', class_=\"mec-color-hover\")\n",
    "    fechas = soup2.find_all('span', class_=\"mec-start-date-label\")\n",
    "    duraciones = soup2.find_all('span', class_=\"mec-start-time\")\n",
    "    ubicaciones = soup2.find_all('address', class_=\"mec-event-address\")\n",
    "\n",
    "    titulos = limpiarDatos(titles)\n",
    "    fechas = limpiarDatos(fechas)\n",
    "    duraciones = limpiarDatos(duraciones)\n",
    "    ubicaciones = limpiarDatos(ubicaciones)\n",
    "\n",
    "    header = ['Titulo', 'Fecha','Duracion', 'Ubicacion']\n",
    "\n",
    "    with open('CarrerasDataSet.csv', 'w', newline='' , encoding='UTF8') as f:\n",
    "        writer = csv.writer(f)\n",
    "        writer.writerow(header)\n",
    "\n",
    "        for info in zip(titulos, fechas, duraciones, ubicaciones):\n",
    "            data = [info[0], info[1], info[2], info[3]]\n",
    "            writer.writerow(data)\n",
    "        \n",
    "        #aca puedo poner una clausula de comparacion y si la cumple enviar un archivo email\n",
    "\n",
    "\n",
    "while(True):\n",
    "    realizarBusqueda()\n",
    "    time.sleep(500)"
   ]
  },
  {
   "cell_type": "code",
   "execution_count": null,
   "id": "f818aa6a",
   "metadata": {},
   "outputs": [],
   "source": [
    "# Puedo por ejemplo mandarme la info por mail\n",
    "\n",
    "def send_mail():\n",
    "    server = smtplib.SMTP_SSL('smtp.gmail.com',465)\n",
    "    server.ehlo()\n",
    "    #server.starttls()\n",
    "    server.ehlo()\n",
    "    server.login('nameSample@gmail.com','password')\n",
    "    \n",
    "    subject = \"Aca te mandamos un listado de todas las carreras de ultimo momento!\"\n",
    "    body = \"Aca te dejo la pagina de donde sacamos toda la info! https://www.corredorpromedio.com/calendario/\"\n",
    "   \n",
    "    msg = f\"Subject: {subject}\\n\\n{body}\"\n",
    "    \n",
    "    server.sendmail(\n",
    "        'emailReceptor@gmail.com',\n",
    "        msg\n",
    "     \n",
    "    )"
   ]
  },
  {
   "cell_type": "code",
   "execution_count": null,
   "id": "937806a0",
   "metadata": {},
   "outputs": [],
   "source": []
  }
 ],
 "metadata": {
  "kernelspec": {
   "display_name": "Python 3 (ipykernel)",
   "language": "python",
   "name": "python3"
  },
  "language_info": {
   "codemirror_mode": {
    "name": "ipython",
    "version": 3
   },
   "file_extension": ".py",
   "mimetype": "text/x-python",
   "name": "python",
   "nbconvert_exporter": "python",
   "pygments_lexer": "ipython3",
   "version": "3.9.7"
  }
 },
 "nbformat": 4,
 "nbformat_minor": 5
}
